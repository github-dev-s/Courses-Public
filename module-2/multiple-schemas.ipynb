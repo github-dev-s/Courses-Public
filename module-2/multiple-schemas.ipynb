{
  "cells": [
    {
      "cell_type": "markdown",
      "id": "e2996fea",
      "metadata": {
        "id": "e2996fea"
      },
      "source": [
        "[![Open in Colab](https://colab.research.google.com/assets/colab-badge.svg)](https://colab.research.google.com/github/langchain-ai/langchain-academy/blob/main/module-2/multiple-schemas.ipynb) [![Open in LangChain Academy](https://cdn.prod.website-files.com/65b8cd72835ceeacd4449a53/66e9eba12c7b7688aa3dbb5e_LCA-badge-green.svg)](https://academy.langchain.com/courses/take/intro-to-langgraph/lessons/58239434-lesson-3-multiple-schemas)"
      ]
    },
    {
      "cell_type": "markdown",
      "id": "693d9912-8d56-46a2-a445-3ee5651fe433",
      "metadata": {
        "id": "693d9912-8d56-46a2-a445-3ee5651fe433"
      },
      "source": [
        "# Multiple Schemas\n",
        "\n",
        "## Review\n",
        "\n",
        "We just covered state schema and reducers.\n",
        "\n",
        "Typically, all graph nodes communicate with a single schema.\n",
        "\n",
        "Also, this single schema contains the graph's input and output keys / channels.\n",
        "\n",
        "## Goals\n",
        "\n",
        "But, there are cases where we may want a bit more control over this:\n",
        "\n",
        "* Internal nodes may pass information that is *not required* in the graph's input / output.\n",
        "\n",
        "* We may also want to use different input / output schemas for the graph. The output might, for example, only contain a single relevant output key.\n",
        "\n",
        "We'll discuss a few ways to customize graphs with multiple schemas."
      ]
    },
    {
      "cell_type": "code",
      "execution_count": 12,
      "id": "4d727cc2-5a43-4eb5-9d69-82bbbcc35bd9",
      "metadata": {
        "id": "4d727cc2-5a43-4eb5-9d69-82bbbcc35bd9"
      },
      "outputs": [],
      "source": [
        "%%capture --no-stderr\n",
        "%pip install --quiet -U langgraph pydantic"
      ]
    },
    {
      "cell_type": "markdown",
      "id": "29b3d109-6bf2-4271-9775-556ee4bd900d",
      "metadata": {
        "id": "29b3d109-6bf2-4271-9775-556ee4bd900d"
      },
      "source": [
        "## Private State\n",
        "\n",
        "First, let's cover the case of passing [private state](https://langchain-ai.github.io/langgraph/how-tos/pass_private_state/) between nodes.\n",
        "\n",
        "This is useful for anything needed as part of the intermediate working logic of the graph, but not relevant for the overall graph input or output.\n",
        "\n",
        "We'll define an `OverallState` and a `PrivateState`.\n",
        "\n",
        "`node_2` uses `PrivateState` as input, but writes out to `OverallState`."
      ]
    },
    {
      "cell_type": "code",
      "execution_count": 3,
      "id": "038ca2e4-7d6d-49d5-b213-b38469cde434",
      "metadata": {
        "id": "038ca2e4-7d6d-49d5-b213-b38469cde434",
        "outputId": "a328c2a4-51f8-425a-ebaf-e89f83382116",
        "colab": {
          "base_uri": "https://localhost:8080/",
          "height": 350
        }
      },
      "outputs": [
        {
          "output_type": "display_data",
          "data": {
            "image/png": "[encoded data removed]",
            "text/plain": [
              "<IPython.core.display.Image object>"
            ]
          },
          "metadata": {}
        }
      ],
      "source": [
        "from typing_extensions import TypedDict\n",
        "from IPython.display import Image, display\n",
        "from langgraph.graph import StateGraph, START, END\n",
        "\n",
        "class OverallState(TypedDict):\n",
        "    foo: int\n",
        "\n",
        "class PrivateState(TypedDict):\n",
        "    baz: int\n",
        "\n",
        "def node_1(state: OverallState) -> PrivateState:\n",
        "    print(\"---Node 1---\")\n",
        "    return {\"baz\": state['foo'] + 1}\n",
        "\n",
        "def node_2(state: PrivateState) -> OverallState:\n",
        "    print(\"---Node 2---\")\n",
        "    return {\"foo\": state['baz'] + 1}\n",
        "\n",
        "# Build graph\n",
        "builder = StateGraph(OverallState)\n",
        "builder.add_node(\"node_1\", node_1)\n",
        "builder.add_node(\"node_2\", node_2)\n",
        "\n",
        "# Logic\n",
        "builder.add_edge(START, \"node_1\")\n",
        "builder.add_edge(\"node_1\", \"node_2\")\n",
        "builder.add_edge(\"node_2\", END)\n",
        "\n",
        "# Add\n",
        "graph = builder.compile()\n",
        "\n",
        "# View\n",
        "display(Image(graph.get_graph().draw_mermaid_png()))"
      ]
    },
    {
      "cell_type": "code",
      "execution_count": null,
      "id": "3dc9cd64-4bd3-4c0a-8f8f-d58c551428e3",
      "metadata": {
        "id": "3dc9cd64-4bd3-4c0a-8f8f-d58c551428e3",
        "outputId": "3a984a99-1a3e-428c-b817-b362dec8c181"
      },
      "outputs": [
        {
          "name": "stdout",
          "output_type": "stream",
          "text": [
            "---Node 1---\n",
            "---Node 2---\n"
          ]
        },
        {
          "data": {
            "text/plain": [
              "{'foo': 3}"
            ]
          },
          "execution_count": 3,
          "metadata": {},
          "output_type": "execute_result"
        }
      ],
      "source": [
        "graph.invoke({\"foo\" : 1})"
      ]
    },
    {
      "cell_type": "markdown",
      "id": "50a29f37-f653-4a56-ad0a-345d7f632ea0",
      "metadata": {
        "id": "50a29f37-f653-4a56-ad0a-345d7f632ea0"
      },
      "source": [
        "`baz` is only included in `PrivateState`.\n",
        "\n",
        "`node_2` uses `PrivateState` as input, but writes out to `OverallState`.\n",
        "\n",
        "So, we can see that `baz` is excluded from the graph output because it is not in `OverallState`."
      ]
    },
    {
      "cell_type": "markdown",
      "id": "75a8362f-009b-4ec2-abe5-8fb318e39966",
      "metadata": {
        "id": "75a8362f-009b-4ec2-abe5-8fb318e39966"
      },
      "source": [
        "## Input / Output Schema\n",
        "\n",
        "By default, `StateGraph` takes in a single schema and all nodes are expected to communicate with that schema.\n",
        "\n",
        "However, it is also possible to [define explicit input and output schemas for a graph](https://langchain-ai.github.io/langgraph/how-tos/input_output_schema/?h=input+outp).\n",
        "\n",
        "Often, in these cases, we define an \"internal\" schema that contains *all* keys relevant to graph operations.\n",
        "\n",
        "But, we use specific `input` and `output` schemas to constrain the input and output.\n",
        "\n",
        "First, let's just run the graph with a single schema."
      ]
    },
    {
      "cell_type": "code",
      "execution_count": 4,
      "id": "5323068a-907a-438c-8db5-46e5d452ad72",
      "metadata": {
        "id": "5323068a-907a-438c-8db5-46e5d452ad72",
        "outputId": "dcbf51fb-c4fc-4711-f4b8-1b0b7898fc8e",
        "colab": {
          "base_uri": "https://localhost:8080/",
          "height": 350
        }
      },
      "outputs": [
        {
          "output_type": "display_data",
          "data": {
            "image/png": "[encoded data removed]",
            "text/plain": [
              "<IPython.core.display.Image object>"
            ]
          },
          "metadata": {}
        }
      ],
      "source": [
        "class OverallState(TypedDict):\n",
        "    question: str\n",
        "    answer: str\n",
        "    notes: str\n",
        "\n",
        "def thinking_node(state: OverallState):\n",
        "    return {\"answer\": \"bye\", \"notes\": \"... his name is Lance\"}\n",
        "\n",
        "def answer_node(state: OverallState):\n",
        "    return {\"answer\": \"bye Lance\"}\n",
        "\n",
        "graph = StateGraph(OverallState)\n",
        "graph.add_node(\"answer_node\", answer_node)\n",
        "graph.add_node(\"thinking_node\", thinking_node)\n",
        "graph.add_edge(START, \"thinking_node\")\n",
        "graph.add_edge(\"thinking_node\", \"answer_node\")\n",
        "graph.add_edge(\"answer_node\", END)\n",
        "\n",
        "graph = graph.compile()\n",
        "\n",
        "# View\n",
        "display(Image(graph.get_graph().draw_mermaid_png()))"
      ]
    },
    {
      "cell_type": "markdown",
      "id": "853fc90c-bf82-4d51-b3a5-ceb0b0ae5233",
      "metadata": {
        "id": "853fc90c-bf82-4d51-b3a5-ceb0b0ae5233"
      },
      "source": [
        "Notice that the output of invoke contains all keys in `OverallState`."
      ]
    },
    {
      "cell_type": "code",
      "execution_count": null,
      "id": "507d35e6-f65c-4e89-b26e-a0ef7b90be83",
      "metadata": {
        "id": "507d35e6-f65c-4e89-b26e-a0ef7b90be83",
        "outputId": "5610d7c9-5bea-4654-e92c-27d94ca10ee4"
      },
      "outputs": [
        {
          "data": {
            "text/plain": [
              "{'question': 'hi', 'answer': 'bye Lance', 'notes': '... his name is Lance'}"
            ]
          },
          "execution_count": 5,
          "metadata": {},
          "output_type": "execute_result"
        }
      ],
      "source": [
        "graph.invoke({\"question\":\"hi\"})"
      ]
    },
    {
      "cell_type": "markdown",
      "id": "e5a899c3-e1b0-48eb-9a36-8c787e378ef0",
      "metadata": {
        "id": "e5a899c3-e1b0-48eb-9a36-8c787e378ef0"
      },
      "source": [
        "Now, let's use a specific `input` and `output` schema with our graph.\n",
        "\n",
        "Here, `input` / `output` schemas perform *filtering* on what keys are permitted on the input and output of the graph.\n",
        "\n",
        "In addition, we can use a type hint `state: InputState` to specify the input schema of each of our nodes.\n",
        "\n",
        "This is important when the graph is using multiple schemas.\n",
        "\n",
        "We use type hints below to, for example, show that the output of `answer_node` will be filtered to `OutputState`."
      ]
    },
    {
      "cell_type": "code",
      "execution_count": null,
      "id": "682b3d10-c78a-41c2-a5ff-842e1688c95f",
      "metadata": {
        "id": "682b3d10-c78a-41c2-a5ff-842e1688c95f",
        "outputId": "30b58d29-b172-4a89-f1bd-840b8c5a303f"
      },
      "outputs": [
        {
          "data": {
            "image/png": "[encoded data removed]",
            "text/plain": [
              "<IPython.core.display.Image object>"
            ]
          },
          "metadata": {},
          "output_type": "display_data"
        },
        {
          "data": {
            "text/plain": [
              "{'question': 'hi', 'answer': 'bye Lance', 'notes': '... his is name is Lance'}"
            ]
          },
          "execution_count": 7,
          "metadata": {},
          "output_type": "execute_result"
        }
      ],
      "source": [
        "class InputState(TypedDict):\n",
        "    question: str\n",
        "\n",
        "class OutputState(TypedDict):\n",
        "    answer: str\n",
        "\n",
        "class OverallState(TypedDict):\n",
        "    question: str\n",
        "    answer: str\n",
        "    notes: str\n",
        "\n",
        "def thinking_node(state: InputState):\n",
        "    return {\"answer\": \"bye\", \"notes\": \"... his is name is Lance\"}\n",
        "\n",
        "def answer_node(state: OverallState) -> OutputState:\n",
        "    return {\"answer\": \"bye Lance\"}\n",
        "\n",
        "graph = StateGraph(OverallState, input=InputState, output=OutputState)\n",
        "graph.add_node(\"answer_node\", answer_node)\n",
        "graph.add_node(\"thinking_node\", thinking_node)\n",
        "graph.add_edge(START, \"thinking_node\")\n",
        "graph.add_edge(\"thinking_node\", \"answer_node\")\n",
        "graph.add_edge(\"answer_node\", END)\n",
        "\n",
        "graph = graph.compile()\n",
        "\n",
        "# View\n",
        "display(Image(graph.get_graph().draw_mermaid_png()))\n",
        "\n",
        "graph.invoke({\"question\":\"hi\"})"
      ]
    },
    {
      "cell_type": "markdown",
      "id": "f1e5ff21",
      "metadata": {
        "id": "f1e5ff21"
      },
      "source": [
        "We can see the `output` schema constrains the output to only the `answer` key."
      ]
    },
    {
      "cell_type": "markdown",
      "id": "dad97b85",
      "metadata": {
        "id": "dad97b85"
      },
      "source": []
    },
    {
      "cell_type": "code",
      "source": [
        "from typing import Literal\n",
        "class InputState(TypedDict):\n",
        "\tdish: str\n",
        "\n",
        "class OutputState(TypedDict):\n",
        "\tserved_dish: str\n",
        "\ttime_taken: float\n",
        "\n",
        "class InternalState(TypedDict):\n",
        "\tdish: str\n",
        "\tingredients: list[str]\n",
        "\tcook_type: Literal[\"baked\", \"steamed\", \"fried\"]\n",
        "\ttime_taken: float\n",
        "\tserved_dish: str\n",
        "\n",
        "\n",
        "# now we can have nodes like\n",
        "\n",
        "def waiterStart(state: InputState) -> InternalState:\n",
        "  print(f\"state for waiter start: {state}\")\n",
        "  return {\"time_taken\": 2} # the good part is that we do not even need to add the dish explicitly, it is there?\n",
        "\n",
        "def chef(state: InternalState) ->InternalState:\n",
        "  print(f\"state for chef: {state}\")\n",
        "  return {\"ingredients\": [\"flour\", \"tomato\", \"cheese\", \"basil\"], \"time_taken\":state[\"time_taken\"]+10}\n",
        "\n",
        "def baker (state: InternalState) ->InternalState:\n",
        "  print(f\"state for baker: {state}\")\n",
        "  return {\"time_taken\": state[\"time_taken\"]+5}\n",
        "\n",
        "def waiterEnd(state: InternalState) -> OutputState:\n",
        "  print(f\"state for waiter end: {state}\")\n",
        "  return {\"served_dish\": \"pizza\"}\n",
        "\n",
        "\n",
        "graph = StateGraph(OverallState, input=InputState, output=OutputState)\n",
        "graph.add_node(\"waiter_start\", waiterStart)\n",
        "graph.add_node(\"chef\", chef)\n",
        "graph.add_node(\"baker\", baker)\n",
        "graph.add_node(\"waiter_end\", waiterEnd)\n",
        "graph.add_edge(START, \"waiter_start\")\n",
        "graph.add_edge(\"waiter_start\", \"chef\")\n",
        "graph.add_edge(\"chef\", \"baker\")\n",
        "graph.add_edge(\"baker\", \"waiter_end\")\n",
        "graph.add_edge(\"waiter_end\", END)\n",
        "\n",
        "graph = graph.compile()\n",
        "\n",
        "# View\n",
        "display(Image(graph.get_graph().draw_mermaid_png()))\n",
        "\n",
        "graph.invoke({\"dish\":\"pizza\"})\n"
      ],
      "metadata": {
        "id": "-RMx8GnQ2osU",
        "outputId": "1fca09c8-ddfe-4d20-de52-ad6a7b57c621",
        "colab": {
          "base_uri": "https://localhost:8080/",
          "height": 655
        }
      },
      "id": "-RMx8GnQ2osU",
      "execution_count": 20,
      "outputs": [
        {
          "output_type": "display_data",
          "data": {
            "image/png": "[encoded data removed]",
            "text/plain": [
              "<IPython.core.display.Image object>"
            ]
          },
          "metadata": {}
        },
        {
          "output_type": "stream",
          "name": "stdout",
          "text": [
            "state for waiter start: {'dish': 'pizza'}\n",
            "state for chef: {'dish': 'pizza', 'time_taken': 2}\n",
            "state for baker: {'dish': 'pizza', 'ingredients': ['flour', 'tomato', 'cheese', 'basil'], 'time_taken': 12}\n",
            "state for waiter end: {'dish': 'pizza', 'ingredients': ['flour', 'tomato', 'cheese', 'basil'], 'time_taken': 17}\n"
          ]
        },
        {
          "output_type": "execute_result",
          "data": {
            "text/plain": [
              "{'served_dish': 'pizza', 'time_taken': 17}"
            ]
          },
          "metadata": {},
          "execution_count": 20
        }
      ]
    },
    {
      "cell_type": "code",
      "source": [
        "!python --version"
      ],
      "metadata": {
        "id": "39s3ruy57QKg",
        "outputId": "fd02e99d-4db4-4c55-e287-39c6b89323e5",
        "colab": {
          "base_uri": "https://localhost:8080/"
        }
      },
      "id": "39s3ruy57QKg",
      "execution_count": 19,
      "outputs": [
        {
          "output_type": "stream",
          "name": "stdout",
          "text": [
            "Python 3.11.12\n"
          ]
        }
      ]
    },
    {
      "cell_type": "markdown",
      "source": [
        "## WITH PYDANTIC?\n",
        "with pydantic do I still need not define `dish` to the waiter start?"
      ],
      "metadata": {
        "id": "mNomoEhs41wv"
      },
      "id": "mNomoEhs41wv"
    },
    {
      "cell_type": "code",
      "source": [
        "from typing import Literal\n",
        "from pydantic import BaseModel, Field\n",
        "from IPython.display import Image, display\n",
        "from langgraph.graph import StateGraph, START, END\n",
        "\n",
        "# Define Pydantic models\n",
        "class InputState(BaseModel):\n",
        "    dish: str\n",
        "\n",
        "class OutputState(BaseModel):\n",
        "    served_dish: str\n",
        "    time_taken: float\n",
        "\n",
        "class InternalState(BaseModel):\n",
        "    dish: str = \"\"\n",
        "    ingredients: list[str] = Field(default_factory=list)\n",
        "    cook_type: Literal[\"baked\", \"steamed\", \"fried\"] = \"baked\"\n",
        "    time_taken: float = 0.0\n",
        "    served_dish: str = \"\"\n",
        "\n",
        "# Now we can have nodes like\n",
        "\n",
        "def waiter_start(state: InputState) -> InternalState:\n",
        "    print(f\"state for waiter start: {state}\")\n",
        "    return InternalState(dish=state.dish, time_taken=2)\n",
        "\n",
        "def chef(state: InternalState) -> InternalState:\n",
        "    print(f\"state for chef: {state}\")\n",
        "    state.ingredients = [\"flour\", \"tomato\", \"cheese\", \"basil\"]\n",
        "    state.time_taken += 10\n",
        "    return state\n",
        "\n",
        "def baker(state: InternalState) -> InternalState:\n",
        "    print(f\"state for baker: {state}\")\n",
        "    state.time_taken += 5\n",
        "    return state\n",
        "\n",
        "def waiter_end(state: InternalState) -> OutputState:\n",
        "    print(f\"state for waiter end: {state}\")\n",
        "    return OutputState(served_dish=\"pizza\", time_taken=state.time_taken)\n",
        "\n",
        "# Set up the graph\n",
        "OverallState = InternalState  # Define OverallState properly\n",
        "\n",
        "graph = StateGraph(OverallState, input=InputState, output=OutputState)\n",
        "\n",
        "graph.add_node(\"waiter_start\", waiter_start)\n",
        "graph.add_node(\"chef\", chef)\n",
        "graph.add_node(\"baker\", baker)\n",
        "graph.add_node(\"waiter_end\", waiter_end)\n",
        "\n",
        "graph.add_edge(START, \"waiter_start\")\n",
        "graph.add_edge(\"waiter_start\", \"chef\")\n",
        "graph.add_edge(\"chef\", \"baker\")\n",
        "graph.add_edge(\"baker\", \"waiter_end\")\n",
        "graph.add_edge(\"waiter_end\", END)\n",
        "\n",
        "compiled_graph = graph.compile()\n",
        "\n",
        "# View\n",
        "display(Image(compiled_graph.get_graph().draw_mermaid_png()))\n",
        "\n",
        "# Invoke\n",
        "test_output = compiled_graph.invoke({\"dish\": \"pizza\"})\n",
        "print(test_output)\n"
      ],
      "metadata": {
        "id": "N1_KtWre5Eji",
        "outputId": "1c27fe09-3bd6-4efe-fcbb-68d575010243",
        "colab": {
          "base_uri": "https://localhost:8080/",
          "height": 655
        }
      },
      "id": "N1_KtWre5Eji",
      "execution_count": 13,
      "outputs": [
        {
          "output_type": "display_data",
          "data": {
            "image/png": "[encoded data removed]",
            "text/plain": [
              "<IPython.core.display.Image object>"
            ]
          },
          "metadata": {}
        },
        {
          "output_type": "stream",
          "name": "stdout",
          "text": [
            "state for waiter start: dish='pizza'\n",
            "state for chef: dish='pizza' ingredients=[] cook_type='baked' time_taken=2.0 served_dish=''\n",
            "state for baker: dish='pizza' ingredients=['flour', 'tomato', 'cheese', 'basil'] cook_type='baked' time_taken=12.0 served_dish=''\n",
            "state for waiter end: dish='pizza' ingredients=['flour', 'tomato', 'cheese', 'basil'] cook_type='baked' time_taken=17.0 served_dish=''\n",
            "{'served_dish': 'pizza', 'time_taken': 17.0}\n"
          ]
        }
      ]
    }
  ],
  "metadata": {
    "kernelspec": {
      "display_name": "lc-academy-env",
      "language": "python",
      "name": "python3"
    },
    "language_info": {
      "codemirror_mode": {
        "name": "ipython",
        "version": 3
      },
      "file_extension": ".py",
      "mimetype": "text/x-python",
      "name": "python",
      "nbconvert_exporter": "python",
      "pygments_lexer": "ipython3",
      "version": "3.11.8"
    },
    "colab": {
      "provenance": []
    }
  },
  "nbformat": 4,
  "nbformat_minor": 5
}